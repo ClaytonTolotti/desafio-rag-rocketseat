{
 "cells": [
  {
   "cell_type": "code",
   "execution_count": 1,
   "id": "41eeece5",
   "metadata": {},
   "outputs": [],
   "source": [
    "%%capture\n",
    "\n",
    "%pip install langchain-community -U\n",
    "%pip install langchain-google-genai\n",
    "%pip install pypdf\n",
    "%pip install chromadb\n",
    "%pip install langchain\n",
    "%pip install langchain-chroma\n",
    "%pip install langchain -U"
   ]
  },
  {
   "cell_type": "code",
   "execution_count": 2,
   "id": "c2dca116",
   "metadata": {},
   "outputs": [],
   "source": [
    "# Imports\n",
    "from langchain_community.document_loaders import PyPDFLoader\n",
    "from langchain.text_splitter import CharacterTextSplitter\n",
    "from langchain_google_genai import GoogleGenerativeAIEmbeddings\n",
    "import chromadb\n",
    "import uuid\n",
    "import os\n",
    "from langchain_google_genai import ChatGoogleGenerativeAI\n",
    "from langchain_core.prompts import ChatPromptTemplate\n",
    "from langchain_core.output_parsers import StrOutputParser\n",
    "from langchain_core.runnables import RunnablePassthrough\n",
    "from langchain_chroma import Chroma\n",
    "from langchain.chains import create_retrieval_chain\n",
    "from langchain.chains.combine_documents import create_stuff_documents_chain"
   ]
  },
  {
   "cell_type": "code",
   "execution_count": 4,
   "id": "8a7ae859",
   "metadata": {},
   "outputs": [],
   "source": [
    "# Carregar e extrair pdf\n",
    "loader = PyPDFLoader('os-sertoes.pdf')\n",
    "documents = loader.load()\n",
    "\n",
    "# Criar chuncks\n",
    "text_splitter = CharacterTextSplitter(chunk_size=500, chunk_overlap=20)\n",
    "texts = text_splitter.split_documents(documents)"
   ]
  },
  {
   "cell_type": "code",
   "execution_count": 5,
   "id": "752607a9",
   "metadata": {},
   "outputs": [],
   "source": [
    "# Embeddings\n",
    "os.environ['GOOGLE_API_KEY'] = os.getenv('GEMINI_API_KEY')\n",
    "\n",
    "embeddings_model = GoogleGenerativeAIEmbeddings(model=\"models/embedding-001\")\n",
    "# Extrair o conteúdo de cada Document para gerar embeddings\n",
    "text_contents = [doc.page_content for doc in texts]\n",
    "embeddings = embeddings_model.embed_documents(text_contents)"
   ]
  },
  {
   "cell_type": "code",
   "execution_count": 6,
   "id": "df5c4d65",
   "metadata": {},
   "outputs": [],
   "source": [
    "# VectorDB\n",
    "client = chromadb.PersistentClient()\n",
    "collection = client.get_or_create_collection(name=\"pdf_documents\")\n",
    "\n",
    "# Gerar IDs únicos para cada chunk e adicionar ao ChromaDB\n",
    "ids = [str(uuid.uuid4()) for _ in range(len(texts))]\n",
    "collection.add(\n",
    "    embeddings=embeddings,\n",
    "    documents=text_contents,\n",
    "    ids=ids\n",
    ")\n"
   ]
  },
  {
   "cell_type": "code",
   "execution_count": 7,
   "id": "0250e656",
   "metadata": {},
   "outputs": [],
   "source": [
    "# retriever \n",
    "vectorstore = Chroma(\n",
    "    client=client,\n",
    "    collection_name=\"pdf_documents\",\n",
    "    embedding_function=embeddings_model\n",
    ")\n",
    "\n",
    "# 5. Transforma a coleção em um retriever\n",
    "retriever = vectorstore.as_retriever(search_kwargs={\"k\": 5})"
   ]
  },
  {
   "cell_type": "code",
   "execution_count": 8,
   "id": "3a25892b",
   "metadata": {},
   "outputs": [],
   "source": [
    "# Inicialize o modelo Gemini\n",
    "llm = ChatGoogleGenerativeAI(model=\"gemini-1.5-flash\", temperature=0.2)\n",
    "# Crie o template do prompt\n",
    "prompt = ChatPromptTemplate.from_template(\"\"\"\n",
    "    Você é um bibliotecário. Responda as perguntas baseadas no contexto fornecido.\n",
    "                                          \n",
    "    Context: {context}\n",
    "                                          \n",
    "    Pergunta: {input}\n",
    "\"\"\")\n",
    "\n",
    "document_chain = create_stuff_documents_chain(llm, prompt)\n",
    "retrieval_chain = create_retrieval_chain(retriever, document_chain)"
   ]
  },
  {
   "cell_type": "code",
   "execution_count": 10,
   "id": "d6e7f639",
   "metadata": {},
   "outputs": [
    {
     "name": "stdout",
     "output_type": "stream",
     "text": [
      "Pergunta: Qual é a visão de Euclides da Cunha sobre o ambiente natural do sertão nordestino e como ele influencia a vida dos habitantes?\n",
      "Resposta: Euclides da Cunha descreve o sertão nordestino como um ambiente hostil, marcado pela seca e pela aridez.  Ele vê a falta de água como o problema central, argumentando que a ausência de um \"mar interior\" que pudesse moderar o clima,  torna a região um \"deserto\".  Soluções pontuais como cisternas e poços artesianos apenas amenizam a sede, mas não resolvem o problema fundamental.\n",
      "\n",
      "Para Cunha, o sofrimento humano (\"martírio do homem\") é um reflexo direto do sofrimento da terra (\"martírio secular da Terra\"). A natureza inclemente impõe condições de vida extremamente difíceis, afetando profundamente a economia e a própria sobrevivência da população.  A falta de estudos científicos aprofundados sobre a região, demonstrados pela passagem rápida de pesquisadores como Martius, reforça a ideia de um ambiente pouco compreendido e, consequentemente, mal explorado e pouco adaptado às necessidades da população.  A  interação entre fatores geológicos, topográficos e climáticos cria um ciclo vicioso de pobreza e dificuldade, que se perpetua pela falta de conhecimento e investimento na região.\n",
      "\n",
      "\n",
      "Pergunta: Quais são as principais características da população sertaneja descritas por Euclides da Cunha? Como ele relaciona essas características com o ambiente em que vivem?\n",
      "Resposta: Euclides da Cunha não descreve características da população sertaneja de forma isolada, mas sim em intrincada relação com o ambiente.  Ele não apresenta uma lista de traços, mas sim uma análise complexa da interação entre fatores raciais, ambientais e históricos.\n",
      "\n",
      "No trecho fornecido, o foco está na composição racial da população, descrita como uma combinação de três elementos: negro banto, índio guarani e branco.  Cunha argumenta que a lei antropológica de Broca, que busca explicar a mistura racial em combinações binárias, é insuficiente para o caso brasileiro, devido à combinação ternária presente.  Essa mistura não resulta em um tipo intermediário unificado, mas sim em uma \"mestiçagem embaralhada\", com a emergência de tipos como mulatos e mamelucos, sem uma redução ou simplificação dos elementos originais.  Essa complexidade racial é, portanto, diretamente relacionada à história e às vicissitudes do ambiente.\n",
      "\n",
      "Em outro trecho, a relação entre o ambiente e a população é abordada de forma mais direta.  O autor destaca a influência recíproca entre as condições geológicas, topográficas e os demais agentes físicos, criando um \"círculo vicioso\" que define a mesologia (estudo das relações entre os seres vivos e o meio ambiente) do sertão.  A falta de estudos científicos aprofundados sobre a região é atribuída à indiferença e à dificuldade de acesso, com poucos pesquisadores suportando as \"agruras\" do sertão por tempo suficiente para uma análise completa.  A própria paisagem, descrita como \"silva horrida\", reflete a dificuldade e a hostilidade do ambiente, que influencia diretamente o modo de vida e a própria percepção da região pelos pesquisadores que a visitam.\n",
      "\n",
      "Em resumo, a descrição de Euclides da Cunha não se limita a traços físicos ou comportamentais da população sertaneja, mas sim à sua complexa formação racial e à sua intrínseca ligação com um ambiente hostil e pouco estudado. A análise é profundamente interdisciplinar, relacionando fatores biológicos, históricos e geográficos para compreender a realidade sertaneja.\n",
      "\n",
      "\n",
      "Pergunta: Qual foi o contexto histórico e político que levou à Guerra de Canudos, segundo Euclides da Cunha?\n",
      "Resposta: O excerto fornecido não detalha o contexto histórico e político que levou à Guerra de Canudos.  A \"Nota Preliminar\" menciona que o livro, inicialmente focado na história da Campanha de Canudos, expandiu seu escopo para abordar as sub-raças sertanejas do Brasil.  Entretanto, não há informações suficientes neste trecho para responder à pergunta sobre as causas da guerra.  Para obter essa informação, seria necessário consultar outras partes do livro \"Os Sertões\".\n",
      "\n",
      "\n",
      "Pergunta: Como Euclides da Cunha descreve a figura de Antônio Conselheiro e seu papel na Guerra de Canudos?\n",
      "Resposta: Em \"Os Sertões\", Euclides da Cunha descreve Antônio Conselheiro como um líder religioso carismático e influente, capaz de reunir centenas de seguidores que lhe obedeciam em detrimento das autoridades locais, inclusive do vigário da paróquia.  Sua influência era tão grande que seus seguidores o adoravam como uma figura quase divina.  A construção de uma capela em Itapicuru, financiada por doações exorbitantes dos fiéis, é apresentada como um exemplo de seu poder e do fanatismo de seus seguidores, que chegavam a roubar para contribuir com as obras.  O texto destaca o medo das autoridades em relação a Conselheiro e a sua capacidade de mobilizar uma grande massa de pessoas,  apontando para o perigo representado por seu movimento.  A descrição não o caracteriza como um líder militar propriamente dito, mas sim como um líder religioso que, por sua influência e o fanatismo de seus seguidores, gerava instabilidade e temor, culminando nos eventos da Guerra de Canudos.\n",
      "\n",
      "\n",
      "Pergunta: Quais são os principais aspectos da crítica social e política presentes em \"Os Sertões\"? Como esses aspectos refletem a visão do autor sobre o Brasil da época?\n",
      "Resposta: Baseado nos excertos fornecidos, \"Os Sertões\" apresenta uma crítica social e política contundente, focando principalmente na injustiça social que dominava o Brasil da época.  O texto destaca o estilo exuberante de Euclides da Cunha como ferramenta para denunciar essa realidade.  Embora os excertos não detalhem especificamente *quais* injustiças são denunciadas, a menção à \"realidade dominada pela injustiça social\" e a busca por valores \"além do certo e do errado da gramática da ciência\" sugerem uma crítica que vai além de uma simples descrição factual, apontando para uma análise mais profunda das estruturas de poder e desigualdade.\n",
      "\n",
      "A comparação entre o Norte e o Sul do Brasil durante o período colonial, presente em outro excerto, também contribui para a crítica. A descrição de duas sociedades distintas, com histórias e destinos rivais, revela uma visão de um país fragmentado e marcado por desigualdades regionais.  A falta de união entre as três raças formadoras da sociedade brasileira, mesmo em momentos de luta comum, reforça a ideia de uma sociedade dividida e com conflitos intrínsecos.\n",
      "\n",
      "Em resumo, a visão de Euclides da Cunha sobre o Brasil, refletida em \"Os Sertões\", é de um país marcado por profundas injustiças sociais e regionais, onde a falta de união e a persistência de desigualdades impedem o progresso e a construção de uma sociedade mais justa e coesa.  A obra utiliza um estilo literário forte para denunciar essa realidade, buscando transcender a mera descrição e alcançar uma compreensão mais ampla das complexas dinâmicas sociais e políticas brasileiras.\n",
      "\n",
      "\n"
     ]
    }
   ],
   "source": [
    "asks = [\n",
    "    \"Qual é a visão de Euclides da Cunha sobre o ambiente natural do sertão nordestino e como ele influencia a vida dos habitantes?\",\n",
    "    \"Quais são as principais características da população sertaneja descritas por Euclides da Cunha? Como ele relaciona essas características com o ambiente em que vivem?\",\n",
    "    \"Qual foi o contexto histórico e político que levou à Guerra de Canudos, segundo Euclides da Cunha?\",\n",
    "    \"Como Euclides da Cunha descreve a figura de Antônio Conselheiro e seu papel na Guerra de Canudos?\",\n",
    "    \"Quais são os principais aspectos da crítica social e política presentes em \\\"Os Sertões\\\"? Como esses aspectos refletem a visão do autor sobre o Brasil da época?\"\n",
    "]\n",
    "\n",
    "for ask in asks:\n",
    "    # Chame a Chain com uma pergunta\n",
    "    response = retrieval_chain.invoke({\"input\": ask})\n",
    "\n",
    "    # Imprima a resposta\n",
    "    print(f\"Pergunta: {ask}\\nResposta: {response['answer']}\\n\\n\")"
   ]
  },
  {
   "cell_type": "code",
   "execution_count": null,
   "id": "04d8312a",
   "metadata": {},
   "outputs": [],
   "source": []
  }
 ],
 "metadata": {
  "kernelspec": {
   "display_name": "Python 3",
   "language": "python",
   "name": "python3"
  },
  "language_info": {
   "codemirror_mode": {
    "name": "ipython",
    "version": 3
   },
   "file_extension": ".py",
   "mimetype": "text/x-python",
   "name": "python",
   "nbconvert_exporter": "python",
   "pygments_lexer": "ipython3",
   "version": "3.12.3"
  }
 },
 "nbformat": 4,
 "nbformat_minor": 5
}
